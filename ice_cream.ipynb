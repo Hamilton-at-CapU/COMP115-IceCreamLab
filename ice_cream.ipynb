# this is the Ice Cream Lab
print("Hello Ice Cream")
